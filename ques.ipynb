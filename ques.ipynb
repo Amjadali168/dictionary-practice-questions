{
 "cells": [
  {
   "cell_type": "code",
   "execution_count": null,
   "metadata": {},
   "outputs": [],
   "source": [
    "# Write a program to count the frequency of each character in a given string using a dictionary.\n",
    "data = 'hello'\n",
    "print(data.count())"
   ]
  },
  {
   "cell_type": "code",
   "execution_count": null,
   "metadata": {},
   "outputs": [],
   "source": [
    "# Write a program to merge two dictionaries into a single dictionary.\n",
    "dict1 = {\"a\": 1, \"b\": 2}\n",
    "dict2 = {\"c\": 3, \"d\": 4}\n",
    "merged_dict = dict1.copy()\n",
    "merged_dict.update(dict2)\n",
    "print(merged_dict)"
   ]
  },
  {
   "cell_type": "code",
   "execution_count": null,
   "metadata": {},
   "outputs": [],
   "source": [
    "dict1 = {\"a\": 1, \"b\": 2, \"c\":6}\n",
    "dict2 = {\"c\": 3, \"d\": 4}\n",
    "merged_dict = {**dict1, **dict2}\n",
    "print(merged_dict)\n",
    "print(merged_dict.keys())"
   ]
  },
  {
   "cell_type": "code",
   "execution_count": null,
   "metadata": {},
   "outputs": [],
   "source": [
    "# Write a program to find the keys with the maximum value in a dictionary.\n",
    "# Sample data: {\"a\": 10, \"b\": 5, \"c\": 10}\n",
    "dict3 = {\"a\": 10, \"b\": 5, \"c\": 10}\n",
    "print(max(dict3.values()))"
   ]
  },
  {
   "cell_type": "code",
   "execution_count": null,
   "metadata": {},
   "outputs": [],
   "source": [
    "# Write a program to check if a given key exists in a dictionary.\n",
    "\n",
    "# Sample data: {\"a\": 1, \"b\": 2, \"c\": 3}\n",
    "dict4 = {\"a\": 1, \"b\": 2, \"c\": 3}\n",
    "print('a' in dict4)\n",
    "\n"
   ]
  },
  {
   "cell_type": "code",
   "execution_count": null,
   "metadata": {},
   "outputs": [],
   "source": [
    "# Write a program to remove a specific key from a dictionary.\n",
    "# Sample data: {\"a\": 1, \"b\": 2, \"c\": 3}\n",
    "dict5 = {\"a\": 1, \"b\": 2, \"c\": 3}\n",
    "print(dict5.pop('a'))\n",
    "print(dict5)"
   ]
  },
  {
   "cell_type": "code",
   "execution_count": null,
   "metadata": {},
   "outputs": [],
   "source": [
    "a = False + True\n",
    "print(a)"
   ]
  },
  {
   "cell_type": "code",
   "execution_count": null,
   "metadata": {},
   "outputs": [],
   "source": [
    "# Write a program to find the common keys in two dictionaries.\n",
    "dict1 = {\"a\": 1, \"b\": 2, \"c\": 3}\n",
    "dict2 = {\"b\": 3, \"c\": 4, \"d\": 5}\n",
    "common_keys = set(dict1.keys()) & set(dict2.keys())\n",
    "for key in common_keys:\n",
    "    value1 = dict1[key]\n",
    "    value2 = dict2[key]\n",
    "print(f\"Key: {key}, Value in dict1: {value1}, Value in dict2: {value2}\")"
   ]
  },
  {
   "cell_type": "code",
   "execution_count": null,
   "metadata": {},
   "outputs": [],
   "source": [
    "# Write a program to get the length of a dictionary.\n",
    "dict0 = {\"a\": 1, \"b\": 2, \"c\": 3}\n",
    "print(len(dict0))"
   ]
  },
  {
   "cell_type": "code",
   "execution_count": null,
   "metadata": {},
   "outputs": [],
   "source": [
    "# Write a program to sort a dictionary by its keys in ascending order.\n",
    "dict_1 =  {\"b\": 2, \"a\": 1, \"c\": 3}\n",
    "print(sorted(dict_1))"
   ]
  },
  {
   "cell_type": "code",
   "execution_count": null,
   "metadata": {},
   "outputs": [],
   "source": [
    "# Write a program to find the key with the minimum value in a dictionary.\n",
    "data = {\"a\": 10, \"b\": 5, \"c\": 15}\n",
    "print(min(data.values()))"
   ]
  },
  {
   "cell_type": "code",
   "execution_count": null,
   "metadata": {},
   "outputs": [],
   "source": [
    "# Write a program to get the values of a dictionary as a list.\n",
    "data = {\"a\": 1, \"b\": 2, \"c\": 3}\n",
    "print(data.values())"
   ]
  },
  {
   "cell_type": "code",
   "execution_count": null,
   "metadata": {},
   "outputs": [],
   "source": [
    "# Write a program to check if a given value exists in a dictionary.\n",
    "data1 = {\"a\": 1, \"b\": 2, \"c\": 3}\n",
    "target_value = int(input(\"enter value you want to check: \"))\n",
    "value_in_data1 = target_value in data1.values()\n",
    "if value_in_data1:\n",
    "    print(f\"The value {target_value} exists in the dictionary.\")\n",
    "else:\n",
    "    print(f\"The value {target_value} does not exist in the dictionary.\")"
   ]
  },
  {
   "cell_type": "code",
   "execution_count": null,
   "metadata": {},
   "outputs": [],
   "source": [
    "# Write a program to find the difference between two dictionaries.\n",
    "dict1 = {\"a\": 1, \"b\": 2, \"c\": 3}\n",
    "dict2 = {\"b\": 2, \"c\": 3, \"d\": 4}\n",
    "print(set(dict1) - set(dict2))"
   ]
  },
  {
   "cell_type": "code",
   "execution_count": null,
   "metadata": {},
   "outputs": [],
   "source": [
    "# Write a program to remove all the items from a dictionary.\n",
    "data = {\"a\": 1, \"b\": 2, \"c\": 3}\n",
    "# del data\n",
    "print(data.clear())"
   ]
  },
  {
   "cell_type": "code",
   "execution_count": null,
   "metadata": {},
   "outputs": [],
   "source": [
    "# Write a program to create a dictionary with keys as numbers from 1 to 10 and their squares as values.\n",
    "# keys: [1, 2, 3, ..., 10]\n",
    "# values: [1, 4, 9, ..., 100]\n",
    "\n",
    "squares_dict = {}\n",
    "for num in range(1, 11):\n",
    "    squares_dict[num] = num ** 2\n",
    "print(squares_dict)\n"
   ]
  },
  {
   "cell_type": "code",
   "execution_count": null,
   "metadata": {},
   "outputs": [],
   "source": [
    "# Write a program to convert a dictionary into a list of tuples.\n",
    "data = {\"a\": 1, \"b\": 2, \"c\": 3}\n",
    "print(data.items())"
   ]
  },
  {
   "cell_type": "code",
   "execution_count": null,
   "metadata": {},
   "outputs": [],
   "source": [
    "# Write a program to check if all the values in a dictionary are unique. \n",
    "data =  {\"a\": 1, \"b\": 2, \"c\": 3,\"d\":1}\n",
    "data1 = set(data.values())\n",
    "print(data1)"
   ]
  },
  {
   "cell_type": "code",
   "execution_count": null,
   "metadata": {},
   "outputs": [],
   "source": [
    "# Write a program to find the key-value pairs that have the highest values in a dictionary.\n",
    "data = {\"a\": 10, \"b\": 5, \"c\": 10}\n",
    "data1 = data.items()\n",
    "print(max(data1))"
   ]
  },
  {
   "cell_type": "code",
   "execution_count": null,
   "metadata": {},
   "outputs": [],
   "source": [
    "# Write a program to create a dictionary from two lists, one containing keys and the other containing values.\n",
    "keys = [\"a\", \"b\", \"c\"]\n",
    "values = [1, 2, 3]\n",
    "data = dict(zip(keys, values))\n",
    "print(data)"
   ]
  },
  {
   "cell_type": "code",
   "execution_count": null,
   "metadata": {},
   "outputs": [],
   "source": [
    "# Write a program to iterate over a dictionary and print the keys and values.\n",
    "data = {\"a\": 1, \"b\": 2, \"c\": 3}\n",
    "for key in data:\n",
    "    print(f\"Key: {key}, Value: {data[key]}\")\n",
    "\n"
   ]
  },
  {
   "cell_type": "code",
   "execution_count": null,
   "metadata": {},
   "outputs": [],
   "source": [
    "# Write a program to extract all the values from nested dictionaries into a single list.\n",
    "data = {\"a\": 1, \"b\": {\"c\": 2, \"d\": 3}, \"e\": 4}\n",
    "values_list = []\n",
    "\n"
   ]
  }
 ],
 "metadata": {
  "kernelspec": {
   "display_name": "Python 3.10.7 64-bit",
   "language": "python",
   "name": "python3"
  },
  "language_info": {
   "codemirror_mode": {
    "name": "ipython",
    "version": 3
   },
   "file_extension": ".py",
   "mimetype": "text/x-python",
   "name": "python",
   "nbconvert_exporter": "python",
   "pygments_lexer": "ipython3",
   "version": "3.10.7"
  },
  "orig_nbformat": 4,
  "vscode": {
   "interpreter": {
    "hash": "aee8b7b246df8f9039afb4144a1f6fd8d2ca17a180786b69acc140d282b71a49"
   }
  }
 },
 "nbformat": 4,
 "nbformat_minor": 2
}
